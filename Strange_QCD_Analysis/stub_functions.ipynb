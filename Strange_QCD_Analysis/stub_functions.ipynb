{
 "cells": [
  {
   "cell_type": "code",
   "execution_count": 8,
   "metadata": {},
   "outputs": [],
   "source": [
    "import os\n",
    "topdir = os.getcwd()\n",
    "loopsubdir = topdir + \"\\\\exported_data\\\\loop\""
   ]
  },
  {
   "cell_type": "code",
   "execution_count": 9,
   "metadata": {},
   "outputs": [],
   "source": [
    "import numpy as np"
   ]
  },
  {
   "cell_type": "code",
   "execution_count": 43,
   "metadata": {},
   "outputs": [],
   "source": [
    "def jackknife_var_resample(original_data):\n",
    "    \"\"\"Jackknife resample a data list and return the variance\"\"\"\n",
    "    \n",
    "    import numpy as np\n",
    "    \n",
    "    n = np.shape(original_data)[0]\n",
    "    resamples = np.empty([n,n-1])\n",
    "    jackknifed_list = np.empty(n)\n",
    "    mean = np.mean(original_data)\n",
    "    var_sum = 0\n",
    "    \n",
    "    for i in range(n):\n",
    "        resamples[i] = np.delete(original_data,i)\n",
    "        jackknifed_list[i] = resamples[i].mean()\n",
    "        var_sum = var_sum + np.square((jackknifed_list[i]-mean))\n",
    "    \n",
    "    variance = 1/(n*(n-1)) * var_sum\n",
    "\n",
    "    #print(jackknifed_list.mean())\n",
    "    #print(variance)\n",
    "    return(variance)"
   ]
  },
  {
   "cell_type": "code",
   "execution_count": 4,
   "metadata": {},
   "outputs": [],
   "source": [
    "def loop_read(loopASCII):\n",
    "    \"\"\"Read loop ASCII file and convert to dataframe\"\"\"\n",
    "    \n",
    "    nt = 64;\n",
    "    ns = 24;\n",
    "    iters = 4000;\n",
    "    \n",
    "    \n",
    "    \n",
    "    return loop_data"
   ]
  },
  {
   "cell_type": "code",
   "execution_count": null,
   "metadata": {},
   "outputs": [],
   "source": [
    "def strange_read(nucleonASCII):\n",
    "    \"\"\"Read strange ASCII file and convert to dataframe\"\"\"\n",
    "    \n",
    "    nt = 64;\n",
    "    ns = 24;\n",
    "    iters = 4000;\n",
    "    \n",
    "    \n",
    "    \n",
    "    return nucleon_data"
   ]
  },
  {
   "cell_type": "code",
   "execution_count": null,
   "metadata": {},
   "outputs": [],
   "source": [
    "def three_point(nucleon_data, loop_data):\n",
    "    \"\"\"Calculate 3-point correlator\"\"\"\n",
    "    \n",
    "    \n",
    "    \n",
    "    return"
   ]
  }
 ],
 "metadata": {
  "kernelspec": {
   "display_name": "Python 3",
   "language": "python",
   "name": "python3"
  },
  "language_info": {
   "codemirror_mode": {
    "name": "ipython",
    "version": 3
   },
   "file_extension": ".py",
   "mimetype": "text/x-python",
   "name": "python",
   "nbconvert_exporter": "python",
   "pygments_lexer": "ipython3",
   "version": "3.7.3"
  }
 },
 "nbformat": 4,
 "nbformat_minor": 4
}
