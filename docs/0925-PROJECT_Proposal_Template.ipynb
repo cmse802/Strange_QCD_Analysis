{
 "cells": [
  {
   "cell_type": "markdown",
   "metadata": {},
   "source": [
    "# <center> Strange Quark QCD Analysis </center>\n",
    "\n",
    "<center>By Nick Juliano</center>"
   ]
  },
  {
   "cell_type": "markdown",
   "metadata": {},
   "source": [
    "<img src=\"./images/Strange_loop.png\" width=\"40%\">\n",
    "\n",
    "Image from: Rui Zhang et al., \"Probing Nucleon Strange and Charm Distributions with Lattice QCD\", 2020"
   ]
  },
  {
   "cell_type": "markdown",
   "metadata": {},
   "source": [
    "---\n",
    "# Overview\n",
    "\n",
    "My project will involve writing code to analyze data from theoretical quantum chromodynamics (QCD) calculations. QCD is a theory that describes the interactions of subatomic particles. Specifically, it treats the strong force that acts on quarks and gluons. There are two guiding schools of thought within QCD-- global fitting and lattice QCD. The data that I will be working with is from lattice calculations, but both approaches are concerned with determining the distribution of quarks and gluons (collectively called \"partons\") within larger composite particles, such as mesons and baryons. Information about these distributions, including how momentum is divided among component quarks, is contained in parton distribution functions (PDFs). The ultimate goal of the work surrounding this project is to determine the form of these PDFs.\n",
    "\n",
    "Experiments to constrain PDFs for individual quark species are ongoing, though it is difficult and resource intensive to generate results that reduce the uncertainty of known PDFs, which is what we want to do. Creating predictive models that agree with existing experiments and can contribute to reducing PDF uncertainty is an active task in QCD theory. These types of models are naturally suited to machine learning algorithms, as we would like to iteratively improve our predictions but do not know the exact form of the true solution.\n",
    "\n",
    "The portion of the process that I will focus on uses data that has already been produced from lengthy lattice calculations. The goal is to calculate several so-called correlation functions (or correlators) with this data. We then combine these correlators to construct matrices that we later use to fit our models, which are currently neural networks. My project is to calculate correlators for strange quarks in neutrons and protons (collectively, \"nucleons\"). Strange quark PDFs still have relatively high uncertainty, so we can make considerable improvements in tandem with more precise experimental data."
   ]
  },
  {
   "cell_type": "markdown",
   "metadata": {},
   "source": [
    "---\n",
    "# Program Description\n",
    "\n",
    "Much of the computational work that I will be doing already exists as a series of Mathematica notebooks written by a senior graduate student. My primary motivation here is to gain enough of an understanding of how these notebooks work to be able to rewrite them in Python. This kind of analysis will likely be something that I return to in the future, so I would like to write software that is more streamlined and is more intuitive to me. I also expect the process of writing my own code to help me understand the protocol for lattice QCD studies, and to pick up some of the physics as I put the code together. A detailed notebook exists for charm quark correlators, while a less polished notebook exists for the strange quark. The code for each is very similar, but I will need to combine the routines from both of them to complete my analysis. In general, the pieces of the code will be as follows: read in the strange quark data, set the appropriate physical parameters to values of interest, calculate the correlators, evaluate the accuracy of the calculations, and produce descriptive plots of the results. Along the way the code will also need to handle reading and writing data to/from appropriate directories."
   ]
  },
  {
   "cell_type": "markdown",
   "metadata": {},
   "source": [
    "---\n",
    "# Project Goals and Timeline\n",
    "\n",
    "My guiding long-term goal is to develop a Python code that takes lattice data as input, provides a simple way to alter parameters, and outputs the corresponding correlator data. As a first short-term goal, I will need to get the existing Mathematica codes to run as I expect they should (I have already gotten them to run, but I still need to figure out how to produce useful output). In the mid-term, I plan to map out the functionality of the existing code and reverse engineer it for my new Python version. Along the way, I will have short-term goals to write individual parts of the code (reading, calculating correlators, plotting). This will likely entail learning how to use different Python packages and development techniques. Once the main functionality of the rewritten code is in place, other long-term goals are to optimize and streamline what I write, and to comment/document the code so that it is readily usable by someone else who needs to perform a similar analysis."
   ]
  },
  {
   "cell_type": "markdown",
   "metadata": {},
   "source": [
    "---\n",
    "# Anticipating Challenges  \n",
    "\n",
    "As mentioned, part of the rewriting process will probably be best handled by implementing Python functions and techniques that are new to me. I expect to become more familiar with the contents of common packages like numpy and scipy to better handle the calculation stages of the process. I will also practice my data management skills when I write code to read and write data. It usually takes me a while to figure out an efficient way to read in data; I may also need to write a custom function to read some of the data that I have on hand, depending on the format.\n",
    "\n",
    "The main challenge that I expect to encounter is a difficulty in translating the existing Mathematica code to a Python equivalent that makes more sense to me. Though I am sure that I can reproduce the same functions of the Mathematica notebooks, I am not very familiar with the language and it may take me a while to understand what the code is doing (which will mean looking through Mathematica documentation). If I run into issues interpreting the Mathematica notebooks, I can consult with the author for clarification. If for some reason I am unable to develop a full rewrite of the existing code, I can focus on completing standalone parts of it (e.g., plotting) that I could use in tandem with the Mathemtica notebooks."
   ]
  }
 ],
 "metadata": {
  "anaconda-cloud": {},
  "kernelspec": {
   "display_name": "Python 3",
   "language": "python",
   "name": "python3"
  },
  "language_info": {
   "codemirror_mode": {
    "name": "ipython",
    "version": 3
   },
   "file_extension": ".py",
   "mimetype": "text/x-python",
   "name": "python",
   "nbconvert_exporter": "python",
   "pygments_lexer": "ipython3",
   "version": "3.7.3"
  }
 },
 "nbformat": 4,
 "nbformat_minor": 4
}
