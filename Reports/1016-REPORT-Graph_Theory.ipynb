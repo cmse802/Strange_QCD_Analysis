{
 "cells": [
  {
   "cell_type": "markdown",
   "metadata": {},
   "source": [
    "# <center>Using Graph Theory in High Energy Physics</center>\n",
    "\n",
    "<center>by Nick Juliano</center>"
   ]
  },
  {
   "cell_type": "markdown",
   "metadata": {},
   "source": [
    "I do not know of any instances where graph theory is used in high energy physics, but there are certainly opportunities to incorporate it. For example, we could use graphs to model interactions between subatomic particles in the style of Feynman diagrams. The edges of these graphs would connect interacting quarks and gluons (the vertices) in the initial and final states of the interaction. We could interpret these graphs in different ways to answer different questions. An open topic of research is the calculation of \"disconnected\" contributions to parton distribution functions (PDFs). Prior lattice QCD work on PDF calculations has only shown results for so-called \"connected\" contributions, which can be visualized in the same way as the graphs described above. However, to produce higher accuracy calculations we can include loop corrections which can involve other quark species not present in the connected diagram. These loop corrections can be represented by subgraphs that are disconnected from the main graph.\n",
    "\n",
    "One way that these graphs could be used is in analyzing the overall impact that comes with adding loop corrections. The extra time it takes to add a certain loop correction to lattice calculations could potentially outweigh the insight that we would gain-- this is something that I need to look into more (I do not know much about the time it takes to add loops, but the time it takes to complete a full lattice calculation can be substantial). As a general rule, first-order corrections are more substantial than second-order corrections, second-order more than third-order, and so forth. By adding weights to edges of the loops corresponding to their contributions to the PDF, we could quantify the important pieces of the configuration. The total number of edges could be an indicator of the complexity of the configuration-- if we took the ratio of the quantified contribution to the number of edges, we would have a metric to determine the worth of including another loop. This would be clear once I determined the computational cost of adding loop corrections, and maybe even associated this to the number of \"loop edges\" in the diagram.\n",
    "\n",
    "There are other ways to interpret these hadron graph models, but I have also considered another application of graph theory to HEP projects. At a meta-level, we could create a graph to map the process of performing lattice calculations over the course of a typical project. Nodes would be common sub-stages of an overall calculation, e.g., calculating correlators, running lattice code on the HPC, performing fits, etc. Edges would connect nodes that depend on one another, e.g., one stage processes data that is input for another stage. With a sufficiently detailed graph, we could see which parts of the process are repeated the most, take up the most research time, or have the most dependencies. This would allow us to more efficiently allocate resources (namely research time and computational time) and give us an idea of which parts of the process we should focus on optimizing. A graph like this one could also serve as a useful educational tool to explain a project to someone outside of the group."
   ]
  },
  {
   "cell_type": "markdown",
   "metadata": {},
   "source": [
    "---\n",
    "# References\n",
    "\n"
   ]
  },
  {
   "cell_type": "markdown",
   "metadata": {},
   "source": [
    "1. Zhang, Lin, Yoon. \"Probing Nucleon Strange and charm distributions with lattice QCD\", 2020. https://arxiv.org/abs/2005.01124"
   ]
  }
 ],
 "metadata": {
  "anaconda-cloud": {},
  "kernelspec": {
   "display_name": "Python 3",
   "language": "python",
   "name": "python3"
  },
  "language_info": {
   "codemirror_mode": {
    "name": "ipython",
    "version": 3
   },
   "file_extension": ".py",
   "mimetype": "text/x-python",
   "name": "python",
   "nbconvert_exporter": "python",
   "pygments_lexer": "ipython3",
   "version": "3.7.3"
  }
 },
 "nbformat": 4,
 "nbformat_minor": 4
}
